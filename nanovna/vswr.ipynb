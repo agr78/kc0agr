{
 "cells": [
  {
   "cell_type": "markdown",
   "metadata": {},
   "source": [
    "### Computing standing wave ratio from reflection coefficients ###\n",
    "\n",
    "For a single port measurement on the [NanoVNA](https://nanovna.com/), the standing wave ratio ([SWR](https://en.wikipedia.org/wiki/Standing_wave_ratio)) defined by the in and out of phase wave amplitudes, $\\left|V_{max}\\right|$ and $\\left|V_{min}\\right|$. These amplitudes can be computed from the reflected wave amplitude $\\left|V_r\\right|$ amd forward wave amplitude $\\left|V_f\\right|$. The [complex](https://www.allaboutcircuits.com/textbook/radio-frequency-analysis-design/radio-frequency-demodulation/understanding-i-q-signals-and-quadrature-modulation/) reflected and forward waves $V_r$ and $V_f$ define the reflection coefficient \n",
    "\n",
    "$$\\Gamma = \\frac{V_r}{V_f}$$\n",
    "\n",
    "Which is [measured by the NanoVNA](https://nanovna.com/?page_id=60). To express the SWR in terms of this coefficient, consider the in phase wave amplitude\n",
    "$$\\left| V_{max} \\right| = \\left|V_f\\right|+\\left|V_r\\right|$$ \n",
    "\n",
    "Re-arrange the reflection coefficient expression and factor\n",
    "$$\\left| V_{max} \\right| = \\left|V_f\\right|+\\left|\\Gamma V_f\\right| = \\left( 1+\\left| \\Gamma \\right|\\right) \\left| V_f \\right|$$ \n",
    "\n",
    "And the out of phase wave amplitude \n",
    "$$\\left| V_{min} \\right|  = \\left|V_f\\right|-\\left|V_r\\right|$$\n",
    "\n",
    "Use the same substitution\n",
    "$$\\left| V_{min} \\right| = \\left|V_f\\right|-\\left|\\Gamma V_f\\right| = \\left(1-\\left| \\Gamma \\right| \\right) \\left| V_f \\right|$$\n",
    "\n",
    "So\n",
    "$$SWR = \\frac{\\left|V_{max}\\right|}{\\left|V_{min}\\right|} = \\frac{1+\\left|\\Gamma\\right|}{1-\\left|\\Gamma\\right|}$$ \n",
    "\n",
    "The nanoVNA measures the real and imaginary components of the reflection coefficient, from which the SWR is computed. Thanks to [NanoVNASaver](https://nanovna.com/?page_id=90), this data is accessible via the [Touchstone](https://en.wikipedia.org/wiki/Touchstone_file) `.snp` file.\n"
   ]
  },
  {
   "cell_type": "code",
   "execution_count": 17,
   "metadata": {},
   "outputs": [],
   "source": [
    "import pandas as pd\n",
    "import numpy as np\n",
    "import matplotlib.pyplot as plt"
   ]
  },
  {
   "cell_type": "code",
   "execution_count": 22,
   "metadata": {},
   "outputs": [
    {
     "data": {
      "text/html": [
       "<div>\n",
       "<style scoped>\n",
       "    .dataframe tbody tr th:only-of-type {\n",
       "        vertical-align: middle;\n",
       "    }\n",
       "\n",
       "    .dataframe tbody tr th {\n",
       "        vertical-align: top;\n",
       "    }\n",
       "\n",
       "    .dataframe thead th {\n",
       "        text-align: right;\n",
       "    }\n",
       "</style>\n",
       "<table border=\"1\" class=\"dataframe\">\n",
       "  <thead>\n",
       "    <tr style=\"text-align: right;\">\n",
       "      <th></th>\n",
       "      <th>HZ</th>\n",
       "      <th>Re(Γ)</th>\n",
       "      <th>Im(Γ)</th>\n",
       "      <th>|Γ|</th>\n",
       "      <th>SWR</th>\n",
       "    </tr>\n",
       "  </thead>\n",
       "  <tbody>\n",
       "    <tr>\n",
       "      <th>0</th>\n",
       "      <td>430000000</td>\n",
       "      <td>-0.201732</td>\n",
       "      <td>-0.077345</td>\n",
       "      <td>0.216051</td>\n",
       "      <td>1.551186</td>\n",
       "    </tr>\n",
       "    <tr>\n",
       "      <th>1</th>\n",
       "      <td>430035714</td>\n",
       "      <td>-0.199978</td>\n",
       "      <td>-0.076287</td>\n",
       "      <td>0.214034</td>\n",
       "      <td>1.544641</td>\n",
       "    </tr>\n",
       "    <tr>\n",
       "      <th>2</th>\n",
       "      <td>430071428</td>\n",
       "      <td>-0.198760</td>\n",
       "      <td>-0.075176</td>\n",
       "      <td>0.212502</td>\n",
       "      <td>1.539689</td>\n",
       "    </tr>\n",
       "    <tr>\n",
       "      <th>3</th>\n",
       "      <td>430107142</td>\n",
       "      <td>-0.199123</td>\n",
       "      <td>-0.074846</td>\n",
       "      <td>0.212725</td>\n",
       "      <td>1.540408</td>\n",
       "    </tr>\n",
       "    <tr>\n",
       "      <th>4</th>\n",
       "      <td>430142856</td>\n",
       "      <td>-0.195320</td>\n",
       "      <td>-0.073682</td>\n",
       "      <td>0.208756</td>\n",
       "      <td>1.527665</td>\n",
       "    </tr>\n",
       "    <tr>\n",
       "      <th>...</th>\n",
       "      <td>...</td>\n",
       "      <td>...</td>\n",
       "      <td>...</td>\n",
       "      <td>...</td>\n",
       "      <td>...</td>\n",
       "    </tr>\n",
       "    <tr>\n",
       "      <th>500</th>\n",
       "      <td>447857000</td>\n",
       "      <td>-0.061646</td>\n",
       "      <td>-0.157757</td>\n",
       "      <td>0.169374</td>\n",
       "      <td>1.407824</td>\n",
       "    </tr>\n",
       "    <tr>\n",
       "      <th>501</th>\n",
       "      <td>447892714</td>\n",
       "      <td>-0.060316</td>\n",
       "      <td>-0.158628</td>\n",
       "      <td>0.169708</td>\n",
       "      <td>1.408791</td>\n",
       "    </tr>\n",
       "    <tr>\n",
       "      <th>502</th>\n",
       "      <td>447928428</td>\n",
       "      <td>-0.060431</td>\n",
       "      <td>-0.159582</td>\n",
       "      <td>0.170641</td>\n",
       "      <td>1.411502</td>\n",
       "    </tr>\n",
       "    <tr>\n",
       "      <th>503</th>\n",
       "      <td>447964142</td>\n",
       "      <td>-0.058996</td>\n",
       "      <td>-0.160024</td>\n",
       "      <td>0.170553</td>\n",
       "      <td>1.411245</td>\n",
       "    </tr>\n",
       "    <tr>\n",
       "      <th>504</th>\n",
       "      <td>447999856</td>\n",
       "      <td>-0.060592</td>\n",
       "      <td>-0.159485</td>\n",
       "      <td>0.170608</td>\n",
       "      <td>1.411404</td>\n",
       "    </tr>\n",
       "  </tbody>\n",
       "</table>\n",
       "<p>505 rows × 5 columns</p>\n",
       "</div>"
      ],
      "text/plain": [
       "            HZ     Re(Γ)     Im(Γ)       |Γ|       SWR\n",
       "0    430000000 -0.201732 -0.077345  0.216051  1.551186\n",
       "1    430035714 -0.199978 -0.076287  0.214034  1.544641\n",
       "2    430071428 -0.198760 -0.075176  0.212502  1.539689\n",
       "3    430107142 -0.199123 -0.074846  0.212725  1.540408\n",
       "4    430142856 -0.195320 -0.073682  0.208756  1.527665\n",
       "..         ...       ...       ...       ...       ...\n",
       "500  447857000 -0.061646 -0.157757  0.169374  1.407824\n",
       "501  447892714 -0.060316 -0.158628  0.169708  1.408791\n",
       "502  447928428 -0.060431 -0.159582  0.170641  1.411502\n",
       "503  447964142 -0.058996 -0.160024  0.170553  1.411245\n",
       "504  447999856 -0.060592 -0.159485  0.170608  1.411404\n",
       "\n",
       "[505 rows x 5 columns]"
      ]
     },
     "execution_count": 22,
     "metadata": {},
     "output_type": "execute_result"
    }
   ],
   "source": [
    "df = pd.read_csv('C:/Users/alexa/OneDrive/Documents/Amateur Radio/nanoVNA/moonraker/uhf.s1p',delimiter=' ',names=[ 'HZ', 'S', 'RI' ], skiprows=1)\n",
    "df = df.rename(columns={'S': 'Re(\\u0393)', 'RI': 'Im(\\u0393)'})\n",
    "df['|\\u0393|'] = np.sqrt(df['Re(\\u0393)']**2+df['Im(\\u0393)']**2)\n",
    "df['SWR'] = (1+df['|\\u0393|'])/(1-df['|\\u0393|'])\n",
    "df"
   ]
  },
  {
   "cell_type": "code",
   "execution_count": 23,
   "metadata": {},
   "outputs": [
    {
     "data": {
      "text/plain": [
       "(1.0, 3.0)"
      ]
     },
     "execution_count": 23,
     "metadata": {},
     "output_type": "execute_result"
    },
    {
     "data": {
      "image/png": "[encoded data removed]",
      "text/plain": [
       "<Figure size 640x480 with 1 Axes>"
      ]
     },
     "metadata": {},
     "output_type": "display_data"
    }
   ],
   "source": [
    "plt.style.use('dark_background')\n",
    "plt.plot(df['HZ']/1e6,df['SWR'])\n",
    "plt.xlabel('Frequency (MHz)')\n",
    "plt.ylabel('SWR')\n",
    "plt.title('Moonraker UHF Sweep')\n",
    "plt.xlim([430,448])\n",
    "plt.ylim([1,3])"
   ]
  }
 ],
 "metadata": {
  "kernelspec": {
   "display_name": "hampyenv",
   "language": "python",
   "name": "python3"
  },
  "language_info": {
   "codemirror_mode": {
    "name": "ipython",
    "version": 3
   },
   "file_extension": ".py",
   "mimetype": "text/x-python",
   "name": "python",
   "nbconvert_exporter": "python",
   "pygments_lexer": "ipython3",
   "version": "3.9.19"
  }
 },
 "nbformat": 4,
 "nbformat_minor": 2
}
