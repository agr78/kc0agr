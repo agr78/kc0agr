{
 "cells": [
  {
   "cell_type": "markdown",
   "metadata": {},
   "source": [
    "# Radiofrequency Field Prediction\n",
    "\n",
    "[Evaluating Compliance for Human Exposure to Radiofrequency Electromagnetic Fields](https://transition.fcc.gov/Bureaus/Engineering_Technology/Documents/bulletins/oet65/oet65.pdf) \\\n",
    "FCC OET Bulletin 65 Supplement B"
   ]
  },
  {
   "cell_type": "markdown",
   "metadata": {},
   "source": [
    "From equation 3 in the bulletin, power density $S$ in $mW/cm^2$ is calculated by\n",
    "$$ S = \\frac{PG}{4\\pi R^2}$$\n",
    "Where $P$ is the power input to the antenna in $mW$, $G =10^{\\frac{dB}{10}}$ is the numeric power gain, and $R$ is the distance to the center of radiation of the antenna in $cm$. For a $75 \\ W$ output from a $2.2 \\ dBi$ dipole $6 \\ m$ away:"
   ]
  },
  {
   "cell_type": "code",
   "execution_count": null,
   "metadata": {},
   "outputs": [],
   "source": [
    "P = 100*1000\n",
    "G = 10**(2.2/10)\n",
    "R = 6*100\n",
    "S = (P*G)/(4*(3.14)*R**2)"
   ]
  },
  {
   "cell_type": "markdown",
   "metadata": {},
   "source": [
    "The power density can be compared using the operating frequency in $MHz$ using Table 1 in the bulletin\n",
    "\n",
    "| Frequency Range ($MHz$) | Power Density ($mW/cm^2$)\n",
    "| --- | --- |\n",
    "| 1.34-30 | $\\frac{180}{f^2}$ |\n",
    "| 30-300| $0.2$ |\n",
    "| 300-1500| $\\frac{f}{1500}$ |"
   ]
  },
  {
   "cell_type": "code",
   "execution_count": 18,
   "metadata": {},
   "outputs": [],
   "source": [
    "def pd_lim(f):\n",
    "    if f >= 1.34 and f < 30:\n",
    "        L = 180/(f**2)\n",
    "    elif f >= 30 and f < 300:\n",
    "        L = 0.2\n",
    "    elif f >= 300 and f < 1500:\n",
    "        L = f/1500\n",
    "    else:\n",
    "        print('Frequency out of range, see p. 67 of bulletin 65')\n",
    "        L = []\n",
    "    return L "
   ]
  },
  {
   "cell_type": "markdown",
   "metadata": {},
   "source": [
    "Comparing this power density to all bands available on the [ICOM 7100](https://www.icomamerica.com/lineup/products/IC-7100USA/):"
   ]
  },
  {
   "cell_type": "code",
   "execution_count": 20,
   "metadata": {},
   "outputs": [
    {
     "name": "stdout",
     "output_type": "stream",
     "text": [
      "Computed power density 0.036703532100087595 mW per cm squared\n",
      "at 1.8 MHz, which has limit: 55.55555555555555 mW per cm squared\n",
      "at 3.5 MHz, which has limit: 14.693877551020408 mW per cm squared\n",
      "at 7 MHz, which has limit: 3.673469387755102 mW per cm squared\n",
      "at 10 MHz, which has limit: 1.8 mW per cm squared\n",
      "at 14 MHz, which has limit: 0.9183673469387755 mW per cm squared\n",
      "at 18 MHz, which has limit: 0.5555555555555556 mW per cm squared\n",
      "at 21 MHz, which has limit: 0.40816326530612246 mW per cm squared\n",
      "at 24 MHz, which has limit: 0.3125 mW per cm squared\n",
      "at 28 MHz, which has limit: 0.22959183673469388 mW per cm squared\n",
      "at 50 MHz, which has limit: 0.2 mW per cm squared\n",
      "at 144 MHz, which has limit: 0.2 mW per cm squared\n",
      "at 430 MHz, which has limit: 0.2866666666666667 mW per cm squared\n"
     ]
    }
   ],
   "source": [
    "fs = [1.8, 3.5, 7, 10, 14, 18, 21, 24, 28, 50, 144, 430]\n",
    "print('Computed power density',S,'mW per cm squared')\n",
    "for f in fs:\n",
    "    L = pd_lim(f)\n",
    "    print('at',f,'MHz, which has limit:',L,'mW per cm squared')"
   ]
  },
  {
   "cell_type": "markdown",
   "metadata": {},
   "source": [
    "This calculation is particularly conservative on UHF and VHF bands, where the maximum transmit power is well below $100 \\ W$ on the 7100. More detailed calculations can be performed using [VP9KF's calculator](http://hintlink.com/power_density.htm)."
   ]
  }
 ],
 "metadata": {
  "kernelspec": {
   "display_name": "base",
   "language": "python",
   "name": "python3"
  },
  "language_info": {
   "codemirror_mode": {
    "name": "ipython",
    "version": 3
   },
   "file_extension": ".py",
   "mimetype": "text/x-python",
   "name": "python",
   "nbconvert_exporter": "python",
   "pygments_lexer": "ipython3",
   "version": "3.9.7"
  }
 },
 "nbformat": 4,
 "nbformat_minor": 2
}
